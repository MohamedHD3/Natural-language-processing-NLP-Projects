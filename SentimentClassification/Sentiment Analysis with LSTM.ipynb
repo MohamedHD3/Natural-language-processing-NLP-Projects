{
 "cells": [
  {
   "cell_type": "markdown",
   "id": "a813e2bc",
   "metadata": {},
   "source": [
    "https://www.kaggle.com/datasets/lakshmi25npathi/imdb-dataset-of-50k-movie-reviews"
   ]
  },
  {
   "cell_type": "code",
   "execution_count": 1,
   "id": "b172e00a",
   "metadata": {},
   "outputs": [],
   "source": [
    "# Importing essential libraries and functions\n",
    "import matplotlib.pyplot as plt\n",
    "import pandas as pd\n",
    "import numpy as np\n",
    "import re\n",
    "import nltk\n",
    "from nltk.corpus import stopwords\n",
    "import tensorflow as tf\n",
    "from keras.preprocessing.text import one_hot, Tokenizer\n",
    "from keras.models import Sequential\n",
    "from keras.layers import Activation, Dropout, Dense, Flatten, GlobalMaxPooling1D, Embedding, Conv1D, LSTM\n",
    "from sklearn.model_selection import train_test_split\n",
    "from keras.preprocessing.sequence import pad_sequences"
   ]
  },
  {
   "cell_type": "code",
   "execution_count": 2,
   "id": "74be5ff9",
   "metadata": {},
   "outputs": [
    {
     "data": {
      "text/html": [
       "<div>\n",
       "<style scoped>\n",
       "    .dataframe tbody tr th:only-of-type {\n",
       "        vertical-align: middle;\n",
       "    }\n",
       "\n",
       "    .dataframe tbody tr th {\n",
       "        vertical-align: top;\n",
       "    }\n",
       "\n",
       "    .dataframe thead th {\n",
       "        text-align: right;\n",
       "    }\n",
       "</style>\n",
       "<table border=\"1\" class=\"dataframe\">\n",
       "  <thead>\n",
       "    <tr style=\"text-align: right;\">\n",
       "      <th></th>\n",
       "      <th>review</th>\n",
       "      <th>sentiment</th>\n",
       "    </tr>\n",
       "  </thead>\n",
       "  <tbody>\n",
       "    <tr>\n",
       "      <th>0</th>\n",
       "      <td>One of the other reviewers has mentioned that ...</td>\n",
       "      <td>positive</td>\n",
       "    </tr>\n",
       "    <tr>\n",
       "      <th>1</th>\n",
       "      <td>A wonderful little production. &lt;br /&gt;&lt;br /&gt;The...</td>\n",
       "      <td>positive</td>\n",
       "    </tr>\n",
       "    <tr>\n",
       "      <th>2</th>\n",
       "      <td>I thought this was a wonderful way to spend ti...</td>\n",
       "      <td>positive</td>\n",
       "    </tr>\n",
       "    <tr>\n",
       "      <th>3</th>\n",
       "      <td>Basically there's a family where a little boy ...</td>\n",
       "      <td>negative</td>\n",
       "    </tr>\n",
       "    <tr>\n",
       "      <th>4</th>\n",
       "      <td>Petter Mattei's \"Love in the Time of Money\" is...</td>\n",
       "      <td>positive</td>\n",
       "    </tr>\n",
       "  </tbody>\n",
       "</table>\n",
       "</div>"
      ],
      "text/plain": [
       "                                              review sentiment\n",
       "0  One of the other reviewers has mentioned that ...  positive\n",
       "1  A wonderful little production. <br /><br />The...  positive\n",
       "2  I thought this was a wonderful way to spend ti...  positive\n",
       "3  Basically there's a family where a little boy ...  negative\n",
       "4  Petter Mattei's \"Love in the Time of Money\" is...  positive"
      ]
     },
     "execution_count": 2,
     "metadata": {},
     "output_type": "execute_result"
    }
   ],
   "source": [
    "# Importing IMDb Movie Reviews dataset\n",
    "\n",
    "df = pd.read_csv('IMDB-Dataset.csv')\n",
    "df.head()"
   ]
  },
  {
   "cell_type": "code",
   "execution_count": 3,
   "id": "e5f220a3",
   "metadata": {},
   "outputs": [
    {
     "data": {
      "text/plain": [
       "(50000, 2)"
      ]
     },
     "execution_count": 3,
     "metadata": {},
     "output_type": "execute_result"
    }
   ],
   "source": [
    "df.shape"
   ]
  },
  {
   "cell_type": "code",
   "execution_count": 4,
   "id": "44f8fcac",
   "metadata": {},
   "outputs": [
    {
     "data": {
      "text/plain": [
       "review       0\n",
       "sentiment    0\n",
       "dtype: int64"
      ]
     },
     "execution_count": 4,
     "metadata": {},
     "output_type": "execute_result"
    }
   ],
   "source": [
    "# Checking for missing values\n",
    "\n",
    "df.isna().sum()"
   ]
  },
  {
   "cell_type": "code",
   "execution_count": 8,
   "id": "58739bf0",
   "metadata": {},
   "outputs": [
    {
     "data": {
      "text/plain": [
       "418"
      ]
     },
     "execution_count": 8,
     "metadata": {},
     "output_type": "execute_result"
    }
   ],
   "source": [
    "df.duplicated().sum()"
   ]
  },
  {
   "cell_type": "code",
   "execution_count": 9,
   "id": "2b8ba401",
   "metadata": {},
   "outputs": [],
   "source": [
    "df.drop_duplicates(inplace=True, keep='last')"
   ]
  },
  {
   "cell_type": "code",
   "execution_count": 10,
   "id": "8d52dd79",
   "metadata": {},
   "outputs": [
    {
     "data": {
      "text/plain": [
       "(49582, 2)"
      ]
     },
     "execution_count": 10,
     "metadata": {},
     "output_type": "execute_result"
    }
   ],
   "source": [
    "df.shape"
   ]
  },
  {
   "cell_type": "code",
   "execution_count": 11,
   "id": "7941c06a",
   "metadata": {},
   "outputs": [
    {
     "data": {
      "image/png": "[encoded data removed]",
      "text/plain": [
       "<Figure size 640x480 with 1 Axes>"
      ]
     },
     "metadata": {},
     "output_type": "display_data"
    }
   ],
   "source": [
    "# Let's observe distribution of positive / negative sentiments in dataset\n",
    "# ImBalanced Data\n",
    "import seaborn as sns\n",
    "sns.countplot(x='sentiment', data=df)\n",
    "plt.show()"
   ]
  },
  {
   "cell_type": "code",
   "execution_count": 12,
   "id": "d14d7184",
   "metadata": {},
   "outputs": [
    {
     "data": {
      "text/plain": [
       "positive    24884\n",
       "negative    24698\n",
       "Name: sentiment, dtype: int64"
      ]
     },
     "execution_count": 12,
     "metadata": {},
     "output_type": "execute_result"
    }
   ],
   "source": [
    "df['sentiment'].value_counts()"
   ]
  },
  {
   "cell_type": "markdown",
   "id": "a33c56c6",
   "metadata": {},
   "source": [
    "### Dataset Balancing"
   ]
  },
  {
   "cell_type": "code",
   "execution_count": 13,
   "id": "ba80bb4e",
   "metadata": {},
   "outputs": [
    {
     "data": {
      "text/plain": [
       "(24884, 2)"
      ]
     },
     "execution_count": 13,
     "metadata": {},
     "output_type": "execute_result"
    }
   ],
   "source": [
    "pos = df[df['sentiment']=='positive']\n",
    "pos.shape"
   ]
  },
  {
   "cell_type": "code",
   "execution_count": 19,
   "id": "392609bc",
   "metadata": {},
   "outputs": [
    {
     "data": {
      "text/html": [
       "<div>\n",
       "<style scoped>\n",
       "    .dataframe tbody tr th:only-of-type {\n",
       "        vertical-align: middle;\n",
       "    }\n",
       "\n",
       "    .dataframe tbody tr th {\n",
       "        vertical-align: top;\n",
       "    }\n",
       "\n",
       "    .dataframe thead th {\n",
       "        text-align: right;\n",
       "    }\n",
       "</style>\n",
       "<table border=\"1\" class=\"dataframe\">\n",
       "  <thead>\n",
       "    <tr style=\"text-align: right;\">\n",
       "      <th></th>\n",
       "      <th>review</th>\n",
       "      <th>sentiment</th>\n",
       "    </tr>\n",
       "  </thead>\n",
       "  <tbody>\n",
       "    <tr>\n",
       "      <th>47242</th>\n",
       "      <td>\"Come Undone\" appears to elicit a lot of opini...</td>\n",
       "      <td>positive</td>\n",
       "    </tr>\n",
       "    <tr>\n",
       "      <th>43761</th>\n",
       "      <td>Caught the tail end of this movie channel surf...</td>\n",
       "      <td>positive</td>\n",
       "    </tr>\n",
       "    <tr>\n",
       "      <th>31426</th>\n",
       "      <td>This is a \"docu-drama\" of (mostly) the later y...</td>\n",
       "      <td>positive</td>\n",
       "    </tr>\n",
       "    <tr>\n",
       "      <th>35193</th>\n",
       "      <td>Darr (1993) was an incredible movie. In my opi...</td>\n",
       "      <td>positive</td>\n",
       "    </tr>\n",
       "    <tr>\n",
       "      <th>3359</th>\n",
       "      <td>I grew up in Southern West Virginia; I'm about...</td>\n",
       "      <td>positive</td>\n",
       "    </tr>\n",
       "  </tbody>\n",
       "</table>\n",
       "</div>"
      ],
      "text/plain": [
       "                                                  review sentiment\n",
       "47242  \"Come Undone\" appears to elicit a lot of opini...  positive\n",
       "43761  Caught the tail end of this movie channel surf...  positive\n",
       "31426  This is a \"docu-drama\" of (mostly) the later y...  positive\n",
       "35193  Darr (1993) was an incredible movie. In my opi...  positive\n",
       "3359   I grew up in Southern West Virginia; I'm about...  positive"
      ]
     },
     "execution_count": 19,
     "metadata": {},
     "output_type": "execute_result"
    }
   ],
   "source": [
    "pos.head()"
   ]
  },
  {
   "cell_type": "code",
   "execution_count": 14,
   "id": "bb4050e1",
   "metadata": {},
   "outputs": [
    {
     "data": {
      "text/plain": [
       "(24698, 2)"
      ]
     },
     "execution_count": 14,
     "metadata": {},
     "output_type": "execute_result"
    }
   ],
   "source": [
    "neg = df[df['sentiment']=='negative']\n",
    "neg.shape"
   ]
  },
  {
   "cell_type": "code",
   "execution_count": 20,
   "id": "17b901d6",
   "metadata": {},
   "outputs": [
    {
     "data": {
      "text/html": [
       "<div>\n",
       "<style scoped>\n",
       "    .dataframe tbody tr th:only-of-type {\n",
       "        vertical-align: middle;\n",
       "    }\n",
       "\n",
       "    .dataframe tbody tr th {\n",
       "        vertical-align: top;\n",
       "    }\n",
       "\n",
       "    .dataframe thead th {\n",
       "        text-align: right;\n",
       "    }\n",
       "</style>\n",
       "<table border=\"1\" class=\"dataframe\">\n",
       "  <thead>\n",
       "    <tr style=\"text-align: right;\">\n",
       "      <th></th>\n",
       "      <th>review</th>\n",
       "      <th>sentiment</th>\n",
       "    </tr>\n",
       "  </thead>\n",
       "  <tbody>\n",
       "    <tr>\n",
       "      <th>3</th>\n",
       "      <td>Basically there's a family where a little boy ...</td>\n",
       "      <td>negative</td>\n",
       "    </tr>\n",
       "    <tr>\n",
       "      <th>7</th>\n",
       "      <td>This show was an amazing, fresh &amp; innovative i...</td>\n",
       "      <td>negative</td>\n",
       "    </tr>\n",
       "    <tr>\n",
       "      <th>8</th>\n",
       "      <td>Encouraged by the positive comments about this...</td>\n",
       "      <td>negative</td>\n",
       "    </tr>\n",
       "    <tr>\n",
       "      <th>10</th>\n",
       "      <td>Phil the Alien is one of those quirky films wh...</td>\n",
       "      <td>negative</td>\n",
       "    </tr>\n",
       "    <tr>\n",
       "      <th>11</th>\n",
       "      <td>I saw this movie when I was about 12 when it c...</td>\n",
       "      <td>negative</td>\n",
       "    </tr>\n",
       "  </tbody>\n",
       "</table>\n",
       "</div>"
      ],
      "text/plain": [
       "                                               review sentiment\n",
       "3   Basically there's a family where a little boy ...  negative\n",
       "7   This show was an amazing, fresh & innovative i...  negative\n",
       "8   Encouraged by the positive comments about this...  negative\n",
       "10  Phil the Alien is one of those quirky films wh...  negative\n",
       "11  I saw this movie when I was about 12 when it c...  negative"
      ]
     },
     "execution_count": 20,
     "metadata": {},
     "output_type": "execute_result"
    }
   ],
   "source": [
    "neg.head()"
   ]
  },
  {
   "cell_type": "code",
   "execution_count": 15,
   "id": "8ed8e597",
   "metadata": {},
   "outputs": [],
   "source": [
    "pos = pos.sample(neg.shape[0])"
   ]
  },
  {
   "cell_type": "code",
   "execution_count": 16,
   "id": "e5ab17ae",
   "metadata": {},
   "outputs": [
    {
     "data": {
      "text/plain": [
       "(24698, 2)"
      ]
     },
     "execution_count": 16,
     "metadata": {},
     "output_type": "execute_result"
    }
   ],
   "source": [
    "pos.shape"
   ]
  },
  {
   "cell_type": "code",
   "execution_count": 21,
   "id": "07c88134",
   "metadata": {},
   "outputs": [],
   "source": [
    "df = pd.concat([pos, neg], axis=0, ignore_index=True) # axis=0 (row)"
   ]
  },
  {
   "cell_type": "code",
   "execution_count": 22,
   "id": "57fabaf6",
   "metadata": {},
   "outputs": [
    {
     "data": {
      "text/html": [
       "<div>\n",
       "<style scoped>\n",
       "    .dataframe tbody tr th:only-of-type {\n",
       "        vertical-align: middle;\n",
       "    }\n",
       "\n",
       "    .dataframe tbody tr th {\n",
       "        vertical-align: top;\n",
       "    }\n",
       "\n",
       "    .dataframe thead th {\n",
       "        text-align: right;\n",
       "    }\n",
       "</style>\n",
       "<table border=\"1\" class=\"dataframe\">\n",
       "  <thead>\n",
       "    <tr style=\"text-align: right;\">\n",
       "      <th></th>\n",
       "      <th>review</th>\n",
       "      <th>sentiment</th>\n",
       "    </tr>\n",
       "  </thead>\n",
       "  <tbody>\n",
       "    <tr>\n",
       "      <th>0</th>\n",
       "      <td>\"Come Undone\" appears to elicit a lot of opini...</td>\n",
       "      <td>positive</td>\n",
       "    </tr>\n",
       "    <tr>\n",
       "      <th>1</th>\n",
       "      <td>Caught the tail end of this movie channel surf...</td>\n",
       "      <td>positive</td>\n",
       "    </tr>\n",
       "    <tr>\n",
       "      <th>2</th>\n",
       "      <td>This is a \"docu-drama\" of (mostly) the later y...</td>\n",
       "      <td>positive</td>\n",
       "    </tr>\n",
       "    <tr>\n",
       "      <th>3</th>\n",
       "      <td>Darr (1993) was an incredible movie. In my opi...</td>\n",
       "      <td>positive</td>\n",
       "    </tr>\n",
       "    <tr>\n",
       "      <th>4</th>\n",
       "      <td>I grew up in Southern West Virginia; I'm about...</td>\n",
       "      <td>positive</td>\n",
       "    </tr>\n",
       "  </tbody>\n",
       "</table>\n",
       "</div>"
      ],
      "text/plain": [
       "                                              review sentiment\n",
       "0  \"Come Undone\" appears to elicit a lot of opini...  positive\n",
       "1  Caught the tail end of this movie channel surf...  positive\n",
       "2  This is a \"docu-drama\" of (mostly) the later y...  positive\n",
       "3  Darr (1993) was an incredible movie. In my opi...  positive\n",
       "4  I grew up in Southern West Virginia; I'm about...  positive"
      ]
     },
     "execution_count": 22,
     "metadata": {},
     "output_type": "execute_result"
    }
   ],
   "source": [
    "df.head()"
   ]
  },
  {
   "cell_type": "code",
   "execution_count": 23,
   "id": "8666791e",
   "metadata": {},
   "outputs": [
    {
     "data": {
      "text/plain": [
       "(49396, 2)"
      ]
     },
     "execution_count": 23,
     "metadata": {},
     "output_type": "execute_result"
    }
   ],
   "source": [
    "df.shape"
   ]
  },
  {
   "cell_type": "code",
   "execution_count": 24,
   "id": "76e46076",
   "metadata": {},
   "outputs": [
    {
     "name": "stdout",
     "output_type": "stream",
     "text": [
      "<class 'pandas.core.frame.DataFrame'>\n",
      "RangeIndex: 49396 entries, 0 to 49395\n",
      "Data columns (total 2 columns):\n",
      " #   Column     Non-Null Count  Dtype \n",
      "---  ------     --------------  ----- \n",
      " 0   review     49396 non-null  object\n",
      " 1   sentiment  49396 non-null  object\n",
      "dtypes: object(2)\n",
      "memory usage: 771.9+ KB\n"
     ]
    }
   ],
   "source": [
    "df.info()"
   ]
  },
  {
   "cell_type": "markdown",
   "id": "c42f3866",
   "metadata": {},
   "source": [
    "# Data Preprocessing"
   ]
  },
  {
   "cell_type": "code",
   "execution_count": 45,
   "id": "43d92f39",
   "metadata": {},
   "outputs": [],
   "source": [
    "df['sentiment'] = df.sentiment.map({'negative':0 ,'positive':1})"
   ]
  },
  {
   "cell_type": "code",
   "execution_count": null,
   "id": "201d2273",
   "metadata": {},
   "outputs": [],
   "source": [
    "# 'he plays well!'\n",
    "# 'he plays well'\n",
    "# 'he' 'plays' 'well'\n",
    "# 'plays' 'well'\n",
    "# 'plays well'\n",
    "# 'play good'\n",
    "# 'play' 'good'\n",
    "# [....] [....]"
   ]
  },
  {
   "cell_type": "code",
   "execution_count": 26,
   "id": "5e5932db",
   "metadata": {},
   "outputs": [
    {
     "data": {
      "text/plain": [
       "'\"Come Undone\" appears to elicit a lot of opinions among the contributors to this forum. Granted, it\\'s a film that promises a take on gay life, as most viewers expect and somehow, it gets away from that promise into an introspective view at a young man\\'s soul. The film has a way of staying with us even when it has ended. It is a character study about how a young man gets involved into a love affair with someone so much different than him that, in the end, will leave Mathieu confused, hurt and depressed when things don\\'t go according to what he hoped the relationship would be.<br /><br />If you haven\\'t seen the film, perhaps you would like to stop reading.<br /><br />Sebastien Lifshitz, the director of the film, has told his story from Mathieu\\'s viewpoint. Most viewers appear to be disoriented by the different times within the film, but there are hints that are not obvious, as one can see, in retrospect. The story is told in flashbacks that might add to the way some people will view the film. This is a story about the doomed the love Mathieu felt for Cedric and the ultimate breakdown of their life together.<br /><br />First of all, Cedric, the handsome young local, pursues Mathieu until he succeeds in convincing him he likes him. Mathieu feels the attraction for Cedric too. We realize how different both young men are by the way Cedric tells Mathieu\\'s family how he feels school is not for him. On the other hand, Mathieu, who wants to be an architect, finds beauty in the abandoned place where Cedric has taken him. We watch as Mathieu, reading from the guide book, wants Cedric\\'s attention.<br /><br />When Mathieu comes out to his mother, she wisely tells him about the importance of continuing his career. She also points out about what future both of them would have together, which proves to be true. Mathieu appears to have learned his lesson, the hard way. He goes on to an uncertain life with Cedric and attempts to take his own life. We watch him in the hospital speaking to a psychiatrist that has treated his wounded soul.<br /><br />The ending might be confusing for most viewers, but there is a moment in the film when Mathieu goes to work in a bar where we see him washing glasses and looking intently to Pierre, the young man who frequents the bar. That is why when Mathieu goes looking for Pierre at his house, appears to be hard to imagine. Yet, we have seen the way Mathieu is obviously interested in Pierre. The last scene at the beach, when Pierre and Mathieu are seen strolling in the sand, has a hopeful sign that things will be better between them as they watch a young boy, apparently lost, but then realizing the father is nearby.<br /><br />Jeremie Elkaim makes Mathieu one of the most complex characters in recent films. This is a young man who is hard to understand on a simple level. Mathieu has suffered a lot, first with the separation of his parents, then with his depressed mother and with losing Cedric. Stephan Rideau, who has been seen on other important French films, is equally good, as the shallow Cedric.<br /><br />While \"Come Undone\" will divide opinions, the film deserves a viewing because of the complexity and the care Sebastien Lifshitz gives to the story.'"
      ]
     },
     "execution_count": 26,
     "metadata": {},
     "output_type": "execute_result"
    }
   ],
   "source": [
    "df['review'][0]"
   ]
  },
  {
   "cell_type": "code",
   "execution_count": 27,
   "id": "93435fed",
   "metadata": {},
   "outputs": [
    {
     "data": {
      "text/plain": [
       "0        3223\n",
       "1         813\n",
       "2         812\n",
       "3         835\n",
       "4         865\n",
       "         ... \n",
       "49391     759\n",
       "49392     642\n",
       "49393    1280\n",
       "49394    1234\n",
       "49395     678\n",
       "Name: review, Length: 49396, dtype: int64"
      ]
     },
     "execution_count": 27,
     "metadata": {},
     "output_type": "execute_result"
    }
   ],
   "source": [
    "df['review'].apply(len)"
   ]
  },
  {
   "cell_type": "code",
   "execution_count": 28,
   "id": "0d92d5ec",
   "metadata": {},
   "outputs": [],
   "source": [
    "df['review letter count'] = df['review'].apply(len)"
   ]
  },
  {
   "cell_type": "code",
   "execution_count": 29,
   "id": "c69f73e8",
   "metadata": {},
   "outputs": [
    {
     "data": {
      "text/html": [
       "<div>\n",
       "<style scoped>\n",
       "    .dataframe tbody tr th:only-of-type {\n",
       "        vertical-align: middle;\n",
       "    }\n",
       "\n",
       "    .dataframe tbody tr th {\n",
       "        vertical-align: top;\n",
       "    }\n",
       "\n",
       "    .dataframe thead th {\n",
       "        text-align: right;\n",
       "    }\n",
       "</style>\n",
       "<table border=\"1\" class=\"dataframe\">\n",
       "  <thead>\n",
       "    <tr style=\"text-align: right;\">\n",
       "      <th></th>\n",
       "      <th>review</th>\n",
       "      <th>sentiment</th>\n",
       "      <th>review letter count</th>\n",
       "    </tr>\n",
       "  </thead>\n",
       "  <tbody>\n",
       "    <tr>\n",
       "      <th>0</th>\n",
       "      <td>\"Come Undone\" appears to elicit a lot of opini...</td>\n",
       "      <td>positive</td>\n",
       "      <td>3223</td>\n",
       "    </tr>\n",
       "    <tr>\n",
       "      <th>1</th>\n",
       "      <td>Caught the tail end of this movie channel surf...</td>\n",
       "      <td>positive</td>\n",
       "      <td>813</td>\n",
       "    </tr>\n",
       "    <tr>\n",
       "      <th>2</th>\n",
       "      <td>This is a \"docu-drama\" of (mostly) the later y...</td>\n",
       "      <td>positive</td>\n",
       "      <td>812</td>\n",
       "    </tr>\n",
       "    <tr>\n",
       "      <th>3</th>\n",
       "      <td>Darr (1993) was an incredible movie. In my opi...</td>\n",
       "      <td>positive</td>\n",
       "      <td>835</td>\n",
       "    </tr>\n",
       "    <tr>\n",
       "      <th>4</th>\n",
       "      <td>I grew up in Southern West Virginia; I'm about...</td>\n",
       "      <td>positive</td>\n",
       "      <td>865</td>\n",
       "    </tr>\n",
       "  </tbody>\n",
       "</table>\n",
       "</div>"
      ],
      "text/plain": [
       "                                              review sentiment  \\\n",
       "0  \"Come Undone\" appears to elicit a lot of opini...  positive   \n",
       "1  Caught the tail end of this movie channel surf...  positive   \n",
       "2  This is a \"docu-drama\" of (mostly) the later y...  positive   \n",
       "3  Darr (1993) was an incredible movie. In my opi...  positive   \n",
       "4  I grew up in Southern West Virginia; I'm about...  positive   \n",
       "\n",
       "   review letter count  \n",
       "0                 3223  \n",
       "1                  813  \n",
       "2                  812  \n",
       "3                  835  \n",
       "4                  865  "
      ]
     },
     "execution_count": 29,
     "metadata": {},
     "output_type": "execute_result"
    }
   ],
   "source": [
    "df.head()"
   ]
  },
  {
   "cell_type": "code",
   "execution_count": 30,
   "id": "e8d199ca",
   "metadata": {},
   "outputs": [
    {
     "data": {
      "text/plain": [
       "count    49396.000000\n",
       "mean      1310.068508\n",
       "std        990.511192\n",
       "min         32.000000\n",
       "25%        699.000000\n",
       "50%        971.000000\n",
       "75%       1590.000000\n",
       "max      13704.000000\n",
       "Name: review letter count, dtype: float64"
      ]
     },
     "execution_count": 30,
     "metadata": {},
     "output_type": "execute_result"
    }
   ],
   "source": [
    "df['review letter count'].describe()"
   ]
  },
  {
   "cell_type": "code",
   "execution_count": 31,
   "id": "003530c5",
   "metadata": {},
   "outputs": [
    {
     "data": {
      "text/plain": [
       "4830"
      ]
     },
     "execution_count": 31,
     "metadata": {},
     "output_type": "execute_result"
    }
   ],
   "source": [
    "df['review letter count'].idxmax() # index"
   ]
  },
  {
   "cell_type": "code",
   "execution_count": 32,
   "id": "e299705b",
   "metadata": {},
   "outputs": [
    {
     "data": {
      "text/plain": [
       "review                 Match 1: Tag Team Table Match Bubba Ray and Sp...\n",
       "sentiment                                                       positive\n",
       "review letter count                                                13704\n",
       "Name: 4830, dtype: object"
      ]
     },
     "execution_count": 32,
     "metadata": {},
     "output_type": "execute_result"
    }
   ],
   "source": [
    "df.iloc[df['review letter count'].idxmax()]"
   ]
  },
  {
   "cell_type": "code",
   "execution_count": 33,
   "id": "8878ec8e",
   "metadata": {},
   "outputs": [
    {
     "data": {
      "text/plain": [
       "'Match 1: Tag Team Table Match Bubba Ray and Spike Dudley vs Eddie Guerrero and Chris Benoit Bubba Ray and Spike Dudley started things off with a Tag Team Table Match against Eddie Guerrero and Chris Benoit. According to the rules of the match, both opponents have to go through tables in order to get the win. Benoit and Guerrero heated up early on by taking turns hammering first Spike and then Bubba Ray. A German suplex by Benoit to Bubba took the wind out of the Dudley brother. Spike tried to help his brother, but the referee restrained him while Benoit and Guerrero ganged up on him in the corner. With Benoit stomping away on Bubba, Guerrero set up a table outside. Spike dashed into the ring and somersaulted over the top rope onto Guerrero on the outside! After recovering and taking care of Spike, Guerrero slipped a table into the ring and helped the Wolverine set it up. The tandem then set up for a double superplex from the middle rope which would have put Bubba through the table, but Spike knocked the table over right before his brother came crashing down! Guerrero and Benoit propped another table in the corner and tried to Irish Whip Spike through it, but Bubba dashed in and blocked his brother. Bubba caught fire and lifted both opponents into back body drops! Bubba slammed Guerrero and Spike stomped on the Wolverine from off the top rope. Bubba held Benoit at bay for Spike to soar into the Wassup! headbutt! Shortly after, Benoit latched Spike in the Crossface, but the match continued even after Spike tapped out. Bubba came to his brother\\'s rescue and managed to sprawl Benoit on a table. Bubba leapt from the middle rope, but Benoit moved and sent Bubba crashing through the wood! But because his opponents didn\\'t force him through the table, Bubba was allowed to stay in the match. The first man was eliminated shortly after, though, as Spike put Eddie through a table with a Dudley Dawg from the ring apron to the outside! Benoit put Spike through a table moments later to even the score. Within seconds, Bubba nailed a Bubba Bomb that put Benoit through a table and gave the Dudleys the win! Winner: Bubba Ray and Spike Dudley<br /><br />Match 2: Cruiserweight Championship Jamie Noble vs Billy Kidman Billy Kidman challenged Jamie Noble, who brought Nidia with him to the ring, for the Cruiserweight Championship. Noble and Kidman locked up and tumbled over the ring, but raced back inside and grappled some more. When Kidman thwarted all Noble\\'s moves, Noble fled outside the ring where Nidia gave him some encouragement. The fight spread outside the ring and Noble threw his girlfriend into the challenger. Kidman tossed Nidia aside but was taken down with a modified arm bar. Noble continued to attack Kidman\\'s injured arm back in the ring. Kidman\\'s injured harm hampered his offense, but he continued to battle hard. Noble tried to put Kidman away with a powerbomb but the challenger countered into a facebuster. Kidman went to finish things with a Shooting Star Press, but Noble broke up the attempt. Kidman went for the Shooting Star Press again, but this time Noble just rolled out of harm\\'s way. Noble flipped Kidman into a power bomb soon after and got the pin to retain his WWE Cruiserweight Championship! Winner: Jamie Noble<br /><br />Match 3: European Championship William Regal vs Jeff Hardy William Regal took on Jeff Hardy next in an attempt to win back the European Championship. Jeff catapulted Regal over the top rope then took him down with a hurracanrana off the ring apron. Back in the ring, Jeff hit the Whisper in the wind to knock Regal for a loop. Jeff went for the Swanton Bomb, but Regal got his knees up to hit Jeff with a devastating shot. Jeff managed to surprise Regal with a quick rollup though and got the pin to keep the European Championship! Regal started bawling at seeing Hardy celebrate on his way back up the ramp. Winner: Jeff Hardy<br /><br />Match 4: Chris Jericho vs John Cena Chris Jericho had promised to end John Cena\\'s career in their match at Vengeance, which came up next. Jericho tried to teach Cena a lesson as their match began by suplexing him to the mat. Jericho continued to knock Cena around the ring until his cockiness got the better of him. While on the top rope, Jericho began to showboat and allowed Cena to grab him for a superplex! Cena followed with a tilt-a-whirl slam but was taken down with a nasty dropkick to the gut. The rookie recovered and hit a belly to belly suplex but couldn\\'t put Y2J away. Jericho launched into the Lionsault but Cena dodged the move. Jericho nailed a bulldog and then connected on the Lionsault, but did not go for the cover. He goaded Cena to his feet so he could put on the Walls of Jericho. Cena had other ideas, reversing the move into a pin attempt and getting the 1-2-3! Jericho went berserk after the match. Winner: John Cena<br /><br />Match 5: Intercontinental Championship RVD vs Brock Lesnar via disqualification The Next Big Thing and Mr. Pay-Per-View tangled with the Intercontinental Championship on the line. Brock grabbed the title from the ref and draped it over his shoulder momentarily while glaring at RVD. Van Dam \\'s quickness gave Brock fits early on. The big man rolled out of the ring and kicked the steel steps out of frustration. Brock pulled himself together and began to take charge. With Paul Heyman beaming at ringside, Brock slammed RVD to the hard floor outside the ring. From there, Brock began to overpower RVD, throwing him with ease over the top rope. RVD landed painfully on his back, then had to suffer from having his spine cracked against the steel ring steps. The fight returned to the ring with Brock squeezing RVD around the ribs. RVD broke away and soon after leveled Brock with a kick to the temple. RVD followed with the Rolling Thunder but Brock managed to kick out after a two-count. The fight looked like it might be over soon as RVD went for a Five-Star Frog Splash. Brock, though, hoisted Van Dam onto his shoulder and went for the F-5, but RVD whirled Brock into a DDT and followed with the Frog Splash! He went for the pin, but Heyman pulled the ref from the ring! The ref immediately called for a disqualification and soon traded blows with Heyman! After, RVD leapt onto Brock from the top rope and then threatened to hit the Van Terminator! Heyman grabbed RVD\\'s leg and Brock picked up the champ and this time connected with the F-5 onto a steel chair! Winner: RVD<br /><br />Match 6: Booker T vs the Big Show Booker T faced the Big Show one-on-one next. Show withstood Booker T\\'s kicks and punches and slapped Booker into the corner. After being thrown from the ring, Booker picked up a chair at ringside, but Big Show punched it back into Booker\\'s face. Booker tried to get back into the game by choking Show with a camera cable at ringside. Booker smashed a TV monitor from the Spanish announcers\\' position into Show\\'s skull, then delivered a scissors kick that put both men through the table! Booker crawled back into the ring and Big Show staggered in moments later. Show grabbed Booker\\'s throat but was met by a low blow and a kick to the face. Booker climbed the top rope and nailed a somersaulting leg drop to get the pin! Winner: Booker T<br /><br />Announcement: Triple H entered the ring to a thunderous ovation as fans hoped to learn where The Game would end up competing. Before he could speak, Eric Bishoff stopped The Game to apologize for getting involved in his personal business. If Triple H signed with RAW, Bischoff promised his personal life would never come into play again. Bischoff said he\\'s spent the past two years networking in Hollywood. He said everyone was looking for the next breakout WWE Superstar, and they were all talking about Triple H. Bischoff guaranteed that if Triple H signed with RAW, he\\'d be getting top opportunities coming his way. Stephanie McMahon stepped out to issue her own pitch. She said that because of her personal history with Triple H, the two of them know each other very well. She said the two of them were once unstoppable and they can be again. Bischoff cut her off and begged her to stop. Stephanie cited that Triple H once told her how Bischoff said Triple H had no talent and no charisma. Bischoff said he was young at the time and didn\\'t know what he had, but he still has a lot more experience that Stephanie. The two continued to bicker back and forth, until Triple H stepped up with his microphone. The Game said it would be easy to say \"screw you\" to either one of them. Triple H went to shake Bischoff\\'s hand, but pulled it away. He said he would rather go with the devil he knows, rather than the one he doesn\\'t know. Before he could go any further, though, Shawn Michaels came out to shake things up. HBK said the last thing he wanted to do was cause any trouble. He didn\\'t want to get involved, but he remembered pledging to bring Triple H to the nWo. HBK said there\\'s nobody in the world that Triple H is better friends with. HBK told his friend to imagine the two back together again, making Bischoff\\'s life a living hell. Triple H said that was a tempting offer. He then turned and hugged HBK, making official his switch to RAW! Triple H and HBK left, and Bischoff gloated over his victory. Bischoff said the difference between the two of them is that he\\'s got testicles and she doesn\\'t. Stephanie whacked Bischoff on the side of the head and left!<br /><br />Match 7: Tag Team Championship Match Christian and Lance Storm vs Hollywood Hogan and Edge The match started with loud \"USA\" chants and with Hogan shoving Christian through the ropes and out of the ring. The Canadians took over from there. But Edge scored a kick to Christian\\'s head and planted a facebuster on Storm to get the tag to Hogan. Hogan began to Hulk up and soon caught Christian with a big boot and a leg drop! Storm broke up the count and Christian tossed Hogan from the ring where Storm superkicked the icon. Edge tagged in soon after and dropped both opponents. He speared both of them into the corner turnbuckles, but missed a spear on Strom and hit the ref hard instead. Edge nailed a DDT, but the ref was down and could not count. Test raced down and took down Hogan then leveled Edge with a boot. Storm tried to get the pin, but Edge kicked out after two. Riksihi sprinted in to fend off Test, allowing Edge to recover and spear Storm. Christian distracted the ref, though, and Y2J dashed in and clocked Edge with the Tag Team Championship! Storm rolled over and got the pinfall to win the title! Winners and New Tag Team Champions: Christian and Lance Storm<br /><br />Match 8: WWE Undisputed Championship Triple Threat Match. The Rock vs Kurt Angle and the Undertaker Three of WWE\\'s most successful superstars lined up against each other in a Triple Threat Match with the Undisputed Championship hanging in the balance. Taker and The Rock got face to face with Kurt Angle begging for some attention off to the side. He got attention in the form of a beat down form the two other men. Soon after, Taker spilled out of the ring and The Rock brawled with Angle. Angle gave a series of suplexes that took down Rock, but the Great One countered with a DDT that managed a two-count. The fight continued outside the ring with Taker coming to life and clotheslining Angle and repeatedly smacking The Rock. Taker and Rock got into it back into the ring, and Taker dropped The Rock with a sidewalk slam to get a two-count. Rock rebounded, grabbed Taker by the throat and chokeslammed him! Angle broke up the pin attempt that likely would have given The Rock the title. The Rock retaliated by latching on the ankle lock to Kurt Angle. Angle reversed the move and Rock Bottomed the People\\'s Champion. Soon after, The Rock disposed of Angle and hit the People\\'s Elbow on the Undertaker. Angle tried to take advantage by disabling the Great One outside the ring and covering Taker, who kicked out after a two count. Outside the ring, Rock took a big swig from a nearby water bottle and spewed the liquid into Taker\\'s face to blind the champion. Taker didn\\'t stay disabled for long, and managed to overpower Rock and turn his attention to Angle. Taker landed a guillotine leg drop onto Angle, laying on the ring apron. The Rock picked himself up just in time to break up a pin attempt on Kurt Angle. Taker nailed Rock with a DDT and set him up for a chokeslam. ANgle tried sneaking up with a steel chair, but Taker caught on to that tomfoolery and smacked it out of his hands. The referee got caught in the ensuing fire and didn\\'t see Angle knock Taker silly with a steel chair. Angle went to cover Taker as The Rock lay prone, but the Dead Man somehow got his shoulder up. Angle tried to pin Rock, but he too kicked out. The Rock got up and landed Angle in the sharpshooter! Angle looked like he was about to tap, but Taker kicked The Rock out of the submission hold. Taker picked Rock up and crashed him with the Last Ride. While the Dead Man covered him for the win, Angle raced in and picked Taker up in the ankle lock! Taker went delirious with pain, but managed to counter. He picked Angle up for the last ride, but Angle put on a triangle choke! It looked like Taker was about to pass out, but The Rock broke Angle\\'s hold only to find himself caught in the ankle lock. Rock got out of the hold and watched Taker chokeslam Angle. Rocky hit the Rock Bottom, but Taker refused to go down and kicked out. Angle whirled Taker up into the Angle Slam but was Rock Bottomed by the Great One and pinned! Winner and New WWE Champion: The Rock<br /><br />~Finally there is a decent PPV! Lately the PPV weren\\'t very good, but this one was a winner. I give this PPV a A-<br /><br />'"
      ]
     },
     "execution_count": 33,
     "metadata": {},
     "output_type": "execute_result"
    }
   ],
   "source": [
    "df.iloc[df['review letter count'].idxmax()][0] # review"
   ]
  },
  {
   "cell_type": "code",
   "execution_count": 34,
   "id": "e97494e4",
   "metadata": {},
   "outputs": [
    {
     "data": {
      "text/plain": [
       "'positive'"
      ]
     },
     "execution_count": 34,
     "metadata": {},
     "output_type": "execute_result"
    }
   ],
   "source": [
    "df.iloc[df['review letter count'].idxmax()][1] # sentiment"
   ]
  },
  {
   "cell_type": "code",
   "execution_count": 35,
   "id": "75df9d35",
   "metadata": {},
   "outputs": [],
   "source": [
    "# Function to count words in a string\n",
    "def count_words(text):\n",
    "    # Splitting the text into words and counting\n",
    "    words = text.split()\n",
    "    return len(words)\n",
    "\n",
    "# Apply the function to the 'review' column\n",
    "df['word_counts'] = df['review'].apply(lambda x: count_words(x))"
   ]
  },
  {
   "cell_type": "code",
   "execution_count": 36,
   "id": "f7e26af3",
   "metadata": {},
   "outputs": [
    {
     "data": {
      "text/html": [
       "<div>\n",
       "<style scoped>\n",
       "    .dataframe tbody tr th:only-of-type {\n",
       "        vertical-align: middle;\n",
       "    }\n",
       "\n",
       "    .dataframe tbody tr th {\n",
       "        vertical-align: top;\n",
       "    }\n",
       "\n",
       "    .dataframe thead th {\n",
       "        text-align: right;\n",
       "    }\n",
       "</style>\n",
       "<table border=\"1\" class=\"dataframe\">\n",
       "  <thead>\n",
       "    <tr style=\"text-align: right;\">\n",
       "      <th></th>\n",
       "      <th>review</th>\n",
       "      <th>sentiment</th>\n",
       "      <th>review letter count</th>\n",
       "      <th>word_counts</th>\n",
       "    </tr>\n",
       "  </thead>\n",
       "  <tbody>\n",
       "    <tr>\n",
       "      <th>0</th>\n",
       "      <td>\"Come Undone\" appears to elicit a lot of opini...</td>\n",
       "      <td>positive</td>\n",
       "      <td>3223</td>\n",
       "      <td>573</td>\n",
       "    </tr>\n",
       "    <tr>\n",
       "      <th>1</th>\n",
       "      <td>Caught the tail end of this movie channel surf...</td>\n",
       "      <td>positive</td>\n",
       "      <td>813</td>\n",
       "      <td>149</td>\n",
       "    </tr>\n",
       "    <tr>\n",
       "      <th>2</th>\n",
       "      <td>This is a \"docu-drama\" of (mostly) the later y...</td>\n",
       "      <td>positive</td>\n",
       "      <td>812</td>\n",
       "      <td>139</td>\n",
       "    </tr>\n",
       "    <tr>\n",
       "      <th>3</th>\n",
       "      <td>Darr (1993) was an incredible movie. In my opi...</td>\n",
       "      <td>positive</td>\n",
       "      <td>835</td>\n",
       "      <td>133</td>\n",
       "    </tr>\n",
       "    <tr>\n",
       "      <th>4</th>\n",
       "      <td>I grew up in Southern West Virginia; I'm about...</td>\n",
       "      <td>positive</td>\n",
       "      <td>865</td>\n",
       "      <td>159</td>\n",
       "    </tr>\n",
       "  </tbody>\n",
       "</table>\n",
       "</div>"
      ],
      "text/plain": [
       "                                              review sentiment  \\\n",
       "0  \"Come Undone\" appears to elicit a lot of opini...  positive   \n",
       "1  Caught the tail end of this movie channel surf...  positive   \n",
       "2  This is a \"docu-drama\" of (mostly) the later y...  positive   \n",
       "3  Darr (1993) was an incredible movie. In my opi...  positive   \n",
       "4  I grew up in Southern West Virginia; I'm about...  positive   \n",
       "\n",
       "   review letter count  word_counts  \n",
       "0                 3223          573  \n",
       "1                  813          149  \n",
       "2                  812          139  \n",
       "3                  835          133  \n",
       "4                  865          159  "
      ]
     },
     "execution_count": 36,
     "metadata": {},
     "output_type": "execute_result"
    }
   ],
   "source": [
    "df.head()"
   ]
  },
  {
   "cell_type": "code",
   "execution_count": 37,
   "id": "82a645b4",
   "metadata": {},
   "outputs": [],
   "source": [
    "# Function to calculate average word length in a string\n",
    "def avg_word_length(text):\n",
    "    words = text.split()\n",
    "    if len(words) == 0:\n",
    "        return 0\n",
    "    return sum(len(word) for word in words) / len(words)\n",
    "\n",
    "# Apply the function to the 'review' column\n",
    "df['avg_wordlength'] = df['review'].apply(lambda x: avg_word_length(x))\n"
   ]
  },
  {
   "cell_type": "code",
   "execution_count": 38,
   "id": "746abe8d",
   "metadata": {},
   "outputs": [
    {
     "data": {
      "text/html": [
       "<div>\n",
       "<style scoped>\n",
       "    .dataframe tbody tr th:only-of-type {\n",
       "        vertical-align: middle;\n",
       "    }\n",
       "\n",
       "    .dataframe tbody tr th {\n",
       "        vertical-align: top;\n",
       "    }\n",
       "\n",
       "    .dataframe thead th {\n",
       "        text-align: right;\n",
       "    }\n",
       "</style>\n",
       "<table border=\"1\" class=\"dataframe\">\n",
       "  <thead>\n",
       "    <tr style=\"text-align: right;\">\n",
       "      <th></th>\n",
       "      <th>review</th>\n",
       "      <th>sentiment</th>\n",
       "      <th>review letter count</th>\n",
       "      <th>word_counts</th>\n",
       "      <th>avg_wordlength</th>\n",
       "    </tr>\n",
       "  </thead>\n",
       "  <tbody>\n",
       "    <tr>\n",
       "      <th>0</th>\n",
       "      <td>\"Come Undone\" appears to elicit a lot of opini...</td>\n",
       "      <td>positive</td>\n",
       "      <td>3223</td>\n",
       "      <td>573</td>\n",
       "      <td>4.626527</td>\n",
       "    </tr>\n",
       "    <tr>\n",
       "      <th>1</th>\n",
       "      <td>Caught the tail end of this movie channel surf...</td>\n",
       "      <td>positive</td>\n",
       "      <td>813</td>\n",
       "      <td>149</td>\n",
       "      <td>4.463087</td>\n",
       "    </tr>\n",
       "    <tr>\n",
       "      <th>2</th>\n",
       "      <td>This is a \"docu-drama\" of (mostly) the later y...</td>\n",
       "      <td>positive</td>\n",
       "      <td>812</td>\n",
       "      <td>139</td>\n",
       "      <td>4.848921</td>\n",
       "    </tr>\n",
       "    <tr>\n",
       "      <th>3</th>\n",
       "      <td>Darr (1993) was an incredible movie. In my opi...</td>\n",
       "      <td>positive</td>\n",
       "      <td>835</td>\n",
       "      <td>133</td>\n",
       "      <td>5.285714</td>\n",
       "    </tr>\n",
       "    <tr>\n",
       "      <th>4</th>\n",
       "      <td>I grew up in Southern West Virginia; I'm about...</td>\n",
       "      <td>positive</td>\n",
       "      <td>865</td>\n",
       "      <td>159</td>\n",
       "      <td>4.446541</td>\n",
       "    </tr>\n",
       "  </tbody>\n",
       "</table>\n",
       "</div>"
      ],
      "text/plain": [
       "                                              review sentiment  \\\n",
       "0  \"Come Undone\" appears to elicit a lot of opini...  positive   \n",
       "1  Caught the tail end of this movie channel surf...  positive   \n",
       "2  This is a \"docu-drama\" of (mostly) the later y...  positive   \n",
       "3  Darr (1993) was an incredible movie. In my opi...  positive   \n",
       "4  I grew up in Southern West Virginia; I'm about...  positive   \n",
       "\n",
       "   review letter count  word_counts  avg_wordlength  \n",
       "0                 3223          573        4.626527  \n",
       "1                  813          149        4.463087  \n",
       "2                  812          139        4.848921  \n",
       "3                  835          133        5.285714  \n",
       "4                  865          159        4.446541  "
      ]
     },
     "execution_count": 38,
     "metadata": {},
     "output_type": "execute_result"
    }
   ],
   "source": [
    "df.head()"
   ]
  },
  {
   "cell_type": "code",
   "execution_count": 39,
   "id": "9596492f",
   "metadata": {},
   "outputs": [
    {
     "name": "stdout",
     "output_type": "stream",
     "text": [
      "['i', 'me', 'my', 'myself', 'we', 'our', 'ours', 'ourselves', 'you', \"you're\", \"you've\", \"you'll\", \"you'd\", 'your', 'yours', 'yourself', 'yourselves', 'he', 'him', 'his', 'himself', 'she', \"she's\", 'her', 'hers', 'herself', 'it', \"it's\", 'its', 'itself', 'they', 'them', 'their', 'theirs', 'themselves', 'what', 'which', 'who', 'whom', 'this', 'that', \"that'll\", 'these', 'those', 'am', 'is', 'are', 'was', 'were', 'be', 'been', 'being', 'have', 'has', 'had', 'having', 'do', 'does', 'did', 'doing', 'a', 'an', 'the', 'and', 'but', 'if', 'or', 'because', 'as', 'until', 'while', 'of', 'at', 'by', 'for', 'with', 'about', 'against', 'between', 'into', 'through', 'during', 'before', 'after', 'above', 'below', 'to', 'from', 'up', 'down', 'in', 'out', 'on', 'off', 'over', 'under', 'again', 'further', 'then', 'once', 'here', 'there', 'when', 'where', 'why', 'how', 'all', 'any', 'both', 'each', 'few', 'more', 'most', 'other', 'some', 'such', 'no', 'nor', 'not', 'only', 'own', 'same', 'so', 'than', 'too', 'very', 's', 't', 'can', 'will', 'just', 'don', \"don't\", 'should', \"should've\", 'now', 'd', 'll', 'm', 'o', 're', 've', 'y', 'ain', 'aren', \"aren't\", 'couldn', \"couldn't\", 'didn', \"didn't\", 'doesn', \"doesn't\", 'hadn', \"hadn't\", 'hasn', \"hasn't\", 'haven', \"haven't\", 'isn', \"isn't\", 'ma', 'mightn', \"mightn't\", 'mustn', \"mustn't\", 'needn', \"needn't\", 'shan', \"shan't\", 'shouldn', \"shouldn't\", 'wasn', \"wasn't\", 'weren', \"weren't\", 'won', \"won't\", 'wouldn', \"wouldn't\"]\n"
     ]
    },
    {
     "name": "stderr",
     "output_type": "stream",
     "text": [
      "[nltk_data] Downloading package stopwords to\n",
      "[nltk_data]     C:\\Users\\mohdh\\AppData\\Roaming\\nltk_data...\n",
      "[nltk_data]   Package stopwords is already up-to-date!\n"
     ]
    }
   ],
   "source": [
    "import nltk # Natural language Toolkit\n",
    "from nltk.corpus import stopwords\n",
    "nltk.download('stopwords')\n",
    "print(stopwords.words('english'))"
   ]
  },
  {
   "cell_type": "code",
   "execution_count": 40,
   "id": "d930b0d2",
   "metadata": {},
   "outputs": [],
   "source": [
    "# Create a set of English stopwords\n",
    "stop_words = set(stopwords.words('english'))\n",
    "\n",
    "stopwords_counts = []\n",
    "\n",
    "for review in df['review']:\n",
    "    # Split the review into words\n",
    "    words = review.split()\n",
    "    \n",
    "    # Count the stopwords in the review\n",
    "    count = sum(word in stop_words for word in words)\n",
    "    \n",
    "    stopwords_counts.append(count)\n",
    "\n",
    "# Add the counts as a new column to the DataFrame\n",
    "df['stopwords_counts'] = stopwords_counts"
   ]
  },
  {
   "cell_type": "code",
   "execution_count": 41,
   "id": "4f2a1943",
   "metadata": {},
   "outputs": [
    {
     "data": {
      "text/html": [
       "<div>\n",
       "<style scoped>\n",
       "    .dataframe tbody tr th:only-of-type {\n",
       "        vertical-align: middle;\n",
       "    }\n",
       "\n",
       "    .dataframe tbody tr th {\n",
       "        vertical-align: top;\n",
       "    }\n",
       "\n",
       "    .dataframe thead th {\n",
       "        text-align: right;\n",
       "    }\n",
       "</style>\n",
       "<table border=\"1\" class=\"dataframe\">\n",
       "  <thead>\n",
       "    <tr style=\"text-align: right;\">\n",
       "      <th></th>\n",
       "      <th>review</th>\n",
       "      <th>sentiment</th>\n",
       "      <th>review letter count</th>\n",
       "      <th>word_counts</th>\n",
       "      <th>avg_wordlength</th>\n",
       "      <th>stopwords_counts</th>\n",
       "    </tr>\n",
       "  </thead>\n",
       "  <tbody>\n",
       "    <tr>\n",
       "      <th>0</th>\n",
       "      <td>\"Come Undone\" appears to elicit a lot of opini...</td>\n",
       "      <td>positive</td>\n",
       "      <td>3223</td>\n",
       "      <td>573</td>\n",
       "      <td>4.626527</td>\n",
       "      <td>259</td>\n",
       "    </tr>\n",
       "    <tr>\n",
       "      <th>1</th>\n",
       "      <td>Caught the tail end of this movie channel surf...</td>\n",
       "      <td>positive</td>\n",
       "      <td>813</td>\n",
       "      <td>149</td>\n",
       "      <td>4.463087</td>\n",
       "      <td>62</td>\n",
       "    </tr>\n",
       "    <tr>\n",
       "      <th>2</th>\n",
       "      <td>This is a \"docu-drama\" of (mostly) the later y...</td>\n",
       "      <td>positive</td>\n",
       "      <td>812</td>\n",
       "      <td>139</td>\n",
       "      <td>4.848921</td>\n",
       "      <td>52</td>\n",
       "    </tr>\n",
       "    <tr>\n",
       "      <th>3</th>\n",
       "      <td>Darr (1993) was an incredible movie. In my opi...</td>\n",
       "      <td>positive</td>\n",
       "      <td>835</td>\n",
       "      <td>133</td>\n",
       "      <td>5.285714</td>\n",
       "      <td>39</td>\n",
       "    </tr>\n",
       "    <tr>\n",
       "      <th>4</th>\n",
       "      <td>I grew up in Southern West Virginia; I'm about...</td>\n",
       "      <td>positive</td>\n",
       "      <td>865</td>\n",
       "      <td>159</td>\n",
       "      <td>4.446541</td>\n",
       "      <td>62</td>\n",
       "    </tr>\n",
       "  </tbody>\n",
       "</table>\n",
       "</div>"
      ],
      "text/plain": [
       "                                              review sentiment  \\\n",
       "0  \"Come Undone\" appears to elicit a lot of opini...  positive   \n",
       "1  Caught the tail end of this movie channel surf...  positive   \n",
       "2  This is a \"docu-drama\" of (mostly) the later y...  positive   \n",
       "3  Darr (1993) was an incredible movie. In my opi...  positive   \n",
       "4  I grew up in Southern West Virginia; I'm about...  positive   \n",
       "\n",
       "   review letter count  word_counts  avg_wordlength  stopwords_counts  \n",
       "0                 3223          573        4.626527               259  \n",
       "1                  813          149        4.463087                62  \n",
       "2                  812          139        4.848921                52  \n",
       "3                  835          133        5.285714                39  \n",
       "4                  865          159        4.446541                62  "
      ]
     },
     "execution_count": 41,
     "metadata": {},
     "output_type": "execute_result"
    }
   ],
   "source": [
    "df.head()"
   ]
  },
  {
   "cell_type": "markdown",
   "id": "9b4ed02e",
   "metadata": {},
   "source": [
    "### EDA (Exploratory Data Analysis)"
   ]
  },
  {
   "cell_type": "code",
   "execution_count": 42,
   "id": "62b9f70f",
   "metadata": {},
   "outputs": [],
   "source": [
    "import seaborn as sns"
   ]
  },
  {
   "cell_type": "code",
   "execution_count": 43,
   "id": "2094a37b",
   "metadata": {},
   "outputs": [
    {
     "data": {
      "image/png": "[encoded data removed]",
      "text/plain": [
       "<Figure size 1600x800 with 4 Axes>"
      ]
     },
     "metadata": {},
     "output_type": "display_data"
    }
   ],
   "source": [
    "plt.figure(figsize=(16,8))\n",
    "\n",
    "plt.subplot(2,2,1)\n",
    "# sns.barplot(x='sentiment', y='word_counts', data=df)\n",
    "sns.histplot(data=df, x='word_counts', hue='sentiment', kde=True)\n",
    "plt.title('Word counts')\n",
    "\n",
    "plt.subplot(2,2,2)\n",
    "sns.histplot(data=df, x='review letter count', hue='sentiment', kde=True)\n",
    "plt.title('Char counts')\n",
    "\n",
    "plt.subplot(2,2,3)\n",
    "sns.histplot(data=df, x='avg_wordlength', hue='sentiment', kde=True)\n",
    "plt.title('Avg Word Length')\n",
    "\n",
    "plt.subplot(2,2,4)\n",
    "sns.histplot(data=df, x='stopwords_counts', hue='sentiment', kde=True)\n",
    "plt.title('Stopwords counts')\n",
    "\n",
    "plt.tight_layout()\n",
    "plt.show()"
   ]
  },
  {
   "cell_type": "code",
   "execution_count": 44,
   "id": "2b60eae6",
   "metadata": {},
   "outputs": [],
   "source": [
    "plt.rcParams['figure.dpi'] = 200\n",
    "plt.rcParams['figure.figsize'] = (10, 4)\n",
    "plt.style.use('ggplot')"
   ]
  },
  {
   "cell_type": "code",
   "execution_count": 46,
   "id": "91307105",
   "metadata": {},
   "outputs": [
    {
     "data": {
      "text/plain": [
       "array([1, 0], dtype=int64)"
      ]
     },
     "execution_count": 46,
     "metadata": {},
     "output_type": "execute_result"
    }
   ],
   "source": [
    "df['sentiment'].unique()"
   ]
  },
  {
   "cell_type": "code",
   "execution_count": 47,
   "id": "8e4630dd",
   "metadata": {},
   "outputs": [
    {
     "data": {
      "text/plain": [
       "(24698, 6)"
      ]
     },
     "execution_count": 47,
     "metadata": {},
     "output_type": "execute_result"
    }
   ],
   "source": [
    "pos = df[df['sentiment']== 1 ]\n",
    "pos.shape"
   ]
  },
  {
   "cell_type": "code",
   "execution_count": 48,
   "id": "727cd433",
   "metadata": {},
   "outputs": [
    {
     "data": {
      "text/plain": [
       "(24698, 6)"
      ]
     },
     "execution_count": 48,
     "metadata": {},
     "output_type": "execute_result"
    }
   ],
   "source": [
    "neg = df[df['sentiment']== 0 ]\n",
    "neg.shape"
   ]
  },
  {
   "cell_type": "code",
   "execution_count": 50,
   "id": "28b9bb24",
   "metadata": {},
   "outputs": [
    {
     "data": {
      "text/plain": [
       "Index(['review', 'sentiment', 'review letter count', 'word_counts',\n",
       "       'avg_wordlength', 'stopwords_counts'],\n",
       "      dtype='object')"
      ]
     },
     "execution_count": 50,
     "metadata": {},
     "output_type": "execute_result"
    }
   ],
   "source": [
    "df.columns"
   ]
  },
  {
   "cell_type": "code",
   "execution_count": 51,
   "id": "493ee9d3",
   "metadata": {},
   "outputs": [
    {
     "data": {
      "image/png": "[encoded data removed]",
      "text/plain": [
       "<Figure size 2000x800 with 1 Axes>"
      ]
     },
     "metadata": {},
     "output_type": "display_data"
    }
   ],
   "source": [
    "plt.hist(pos['review letter count'], bins=100, alpha=0.7, label='Positive')\n",
    "plt.hist(neg['review letter count'], bins=100, alpha=0.7, label='Negative')\n",
    "plt.title('Message letters Length for Positive and Negative')\n",
    "plt.legend()\n",
    "plt.show()"
   ]
  },
  {
   "cell_type": "markdown",
   "id": "b7973813",
   "metadata": {},
   "source": [
    "From this graph, we can observe that:\n",
    "\n",
    "Most messages are relatively short, as indicated by the high frequency of messages with lower lengths.\n",
    "\n",
    "The positive messages have a similar length distribution to the negative messages, although it's hard to determine precise differences without exact numbers or scale.\n",
    "\n",
    "The graph is useful for visualizing how message length varies between positive and negative messages and could be used to assess whether there's a significant difference in the way people write messages based on their sentiment."
   ]
  },
  {
   "cell_type": "markdown",
   "id": "80ac6894",
   "metadata": {},
   "source": [
    "#### The histogram display a right-skewed (positively skewed) distribution for both positive and negative messages. In a right-skewed distribution:\n",
    "\n",
    "#### The majority of the data points are concentrated on the left side of the histogram, with the tail stretching out to the right.\n",
    "\n",
    "#### The mean and median will be greater than the mode, and the mean is typically the largest among the three measures of central tendency because it is pulled in the direction of the tail.\n",
    "\n",
    "#### The bars representing both positive and negative message lengths taper off as they move towards the right side of the x-axis, which indicates that fewer messages have a very long length. This is characteristic of a positively skewed distribution. The bulk of the messages are shorter in length, as indicated by the taller bars on the left."
   ]
  },
  {
   "cell_type": "code",
   "execution_count": 52,
   "id": "dfbe4e79",
   "metadata": {},
   "outputs": [
    {
     "data": {
      "image/png": "[encoded data removed]",
      "text/plain": [
       "<Figure size 2000x800 with 1 Axes>"
      ]
     },
     "metadata": {},
     "output_type": "display_data"
    }
   ],
   "source": [
    "plt.hist(pos['word_counts'], bins=100, alpha=0.7, label='Positive')\n",
    "plt.hist(neg['word_counts'], bins=100, alpha=0.7, label='Negative')\n",
    "plt.title('Message words Length for Positive and Negative')\n",
    "plt.legend()\n",
    "plt.show()"
   ]
  },
  {
   "cell_type": "markdown",
   "id": "dbda1769",
   "metadata": {},
   "source": [
    "# **********************************************"
   ]
  },
  {
   "cell_type": "code",
   "execution_count": 53,
   "id": "0e1a5eca",
   "metadata": {},
   "outputs": [],
   "source": [
    "# Function to remove email addresses\n",
    "def remove_emails(text):\n",
    "    # Regular expression pattern for matching email addresses\n",
    "    email_pattern = r'\\b[A-Za-z0-9._%+-]+@[A-Za-z0-9.-]+\\.[A-Z|a-z]{2,}\\b'\n",
    "    # Replace email addresses with an empty string\n",
    "    return re.sub(email_pattern, ' ', text)\n",
    "\n",
    "# Apply the function to the DataFrame column\n",
    "\n",
    "# df['reviews'] = df['reviews'].apply(lambda x: remove_emails(x))"
   ]
  },
  {
   "cell_type": "code",
   "execution_count": 54,
   "id": "3d7cbdbc",
   "metadata": {},
   "outputs": [],
   "source": [
    "# Function to remove HTML tags\n",
    "def remove_html_tags(text):\n",
    "    # Regular expression pattern for HTML tags\n",
    "    html_pattern = re.compile('<.*?>')\n",
    "    # Replace HTML tags with an empty string\n",
    "    return html_pattern.sub(' ', text)\n",
    "\n",
    "# Apply the function to the DataFrame column\n",
    "\n",
    "# df['reviews'] = df['reviews'].apply(lambda x: remove_html_tags(x))"
   ]
  },
  {
   "cell_type": "code",
   "execution_count": 55,
   "id": "e2fbbecc",
   "metadata": {},
   "outputs": [],
   "source": [
    "# Function to remove special characters\n",
    "def remove_special_chars(text):\n",
    "    # Regular expression pattern for non-alphanumeric characters (excluding basic punctuation)\n",
    "    pattern = r'[^A-Za-z0-9 .,!?;:]'\n",
    "    # Replace special characters with an empty string\n",
    "    return re.sub(pattern, ' ', text)\n",
    "\n",
    "# Apply the function to the DataFrame column\n",
    "\n",
    "# df['reviews'] = df['reviews'].apply(lambda x: remove_special_chars(x))"
   ]
  },
  {
   "cell_type": "code",
   "execution_count": 56,
   "id": "b5189c7b",
   "metadata": {},
   "outputs": [
    {
     "data": {
      "text/plain": [
       "list"
      ]
     },
     "execution_count": 56,
     "metadata": {},
     "output_type": "execute_result"
    }
   ],
   "source": [
    "from nltk.stem.porter import PorterStemmer\n",
    "stemmer = PorterStemmer()\n",
    "corpus = []\n",
    "\n",
    "for i in range(len(df)):\n",
    "    sen = re.sub('[^a-zA-Z]', ' ', df['review'][i])\n",
    "    sen = sen.split()\n",
    "    sen = [word for word in sen if word not in stopwords.words('english')] \n",
    "    sen = [stemmer.stem(word) for word in sen]\n",
    "    sen = ' '.join(sen)\n",
    "    corpus.append(sen)\n",
    "\n",
    "type(corpus)"
   ]
  },
  {
   "cell_type": "code",
   "execution_count": 57,
   "id": "5eec1e98",
   "metadata": {},
   "outputs": [
    {
     "data": {
      "text/html": [
       "<div>\n",
       "<style scoped>\n",
       "    .dataframe tbody tr th:only-of-type {\n",
       "        vertical-align: middle;\n",
       "    }\n",
       "\n",
       "    .dataframe tbody tr th {\n",
       "        vertical-align: top;\n",
       "    }\n",
       "\n",
       "    .dataframe thead th {\n",
       "        text-align: right;\n",
       "    }\n",
       "</style>\n",
       "<table border=\"1\" class=\"dataframe\">\n",
       "  <thead>\n",
       "    <tr style=\"text-align: right;\">\n",
       "      <th></th>\n",
       "      <th>review</th>\n",
       "    </tr>\n",
       "  </thead>\n",
       "  <tbody>\n",
       "    <tr>\n",
       "      <th>0</th>\n",
       "      <td>come undon appear elicit lot opinion among con...</td>\n",
       "    </tr>\n",
       "    <tr>\n",
       "      <th>1</th>\n",
       "      <td>caught tail end movi channel surf cabl movi ch...</td>\n",
       "    </tr>\n",
       "    <tr>\n",
       "      <th>2</th>\n",
       "      <td>thi docu drama mostli later year kw life nearl...</td>\n",
       "    </tr>\n",
       "    <tr>\n",
       "      <th>3</th>\n",
       "      <td>darr incred movi in opinion one bollywood fine...</td>\n",
       "    </tr>\n",
       "    <tr>\n",
       "      <th>4</th>\n",
       "      <td>i grew southern west virginia i age mayb year ...</td>\n",
       "    </tr>\n",
       "  </tbody>\n",
       "</table>\n",
       "</div>"
      ],
      "text/plain": [
       "                                              review\n",
       "0  come undon appear elicit lot opinion among con...\n",
       "1  caught tail end movi channel surf cabl movi ch...\n",
       "2  thi docu drama mostli later year kw life nearl...\n",
       "3  darr incred movi in opinion one bollywood fine...\n",
       "4  i grew southern west virginia i age mayb year ..."
      ]
     },
     "execution_count": 57,
     "metadata": {},
     "output_type": "execute_result"
    }
   ],
   "source": [
    "temp = pd.DataFrame(corpus,columns=['review'])\n",
    "temp.head()"
   ]
  },
  {
   "cell_type": "code",
   "execution_count": 58,
   "id": "0c826630",
   "metadata": {},
   "outputs": [
    {
     "data": {
      "text/plain": [
       "'\"Come Undone\" appears to elicit a lot of opinions among the contributors to this forum. Granted, it\\'s a film that promises a take on gay life, as most viewers expect and somehow, it gets away from that promise into an introspective view at a young man\\'s soul. The film has a way of staying with us even when it has ended. It is a character study about how a young man gets involved into a love affair with someone so much different than him that, in the end, will leave Mathieu confused, hurt and depressed when things don\\'t go according to what he hoped the relationship would be.<br /><br />If you haven\\'t seen the film, perhaps you would like to stop reading.<br /><br />Sebastien Lifshitz, the director of the film, has told his story from Mathieu\\'s viewpoint. Most viewers appear to be disoriented by the different times within the film, but there are hints that are not obvious, as one can see, in retrospect. The story is told in flashbacks that might add to the way some people will view the film. This is a story about the doomed the love Mathieu felt for Cedric and the ultimate breakdown of their life together.<br /><br />First of all, Cedric, the handsome young local, pursues Mathieu until he succeeds in convincing him he likes him. Mathieu feels the attraction for Cedric too. We realize how different both young men are by the way Cedric tells Mathieu\\'s family how he feels school is not for him. On the other hand, Mathieu, who wants to be an architect, finds beauty in the abandoned place where Cedric has taken him. We watch as Mathieu, reading from the guide book, wants Cedric\\'s attention.<br /><br />When Mathieu comes out to his mother, she wisely tells him about the importance of continuing his career. She also points out about what future both of them would have together, which proves to be true. Mathieu appears to have learned his lesson, the hard way. He goes on to an uncertain life with Cedric and attempts to take his own life. We watch him in the hospital speaking to a psychiatrist that has treated his wounded soul.<br /><br />The ending might be confusing for most viewers, but there is a moment in the film when Mathieu goes to work in a bar where we see him washing glasses and looking intently to Pierre, the young man who frequents the bar. That is why when Mathieu goes looking for Pierre at his house, appears to be hard to imagine. Yet, we have seen the way Mathieu is obviously interested in Pierre. The last scene at the beach, when Pierre and Mathieu are seen strolling in the sand, has a hopeful sign that things will be better between them as they watch a young boy, apparently lost, but then realizing the father is nearby.<br /><br />Jeremie Elkaim makes Mathieu one of the most complex characters in recent films. This is a young man who is hard to understand on a simple level. Mathieu has suffered a lot, first with the separation of his parents, then with his depressed mother and with losing Cedric. Stephan Rideau, who has been seen on other important French films, is equally good, as the shallow Cedric.<br /><br />While \"Come Undone\" will divide opinions, the film deserves a viewing because of the complexity and the care Sebastien Lifshitz gives to the story.'"
      ]
     },
     "execution_count": 58,
     "metadata": {},
     "output_type": "execute_result"
    }
   ],
   "source": [
    "df['review'][0]"
   ]
  },
  {
   "cell_type": "code",
   "execution_count": 59,
   "id": "8549e293",
   "metadata": {},
   "outputs": [
    {
     "data": {
      "text/plain": [
       "'come undon appear elicit lot opinion among contributor forum grant film promis take gay life viewer expect somehow get away promis introspect view young man soul the film way stay us even end it charact studi young man get involv love affair someon much differ end leav mathieu confus hurt depress thing go accord hope relationship would br br if seen film perhap would like stop read br br sebastien lifshitz director film told stori mathieu viewpoint most viewer appear disori differ time within film hint obviou one see retrospect the stori told flashback might add way peopl view film thi stori doom love mathieu felt cedric ultim breakdown life togeth br br first cedric handsom young local pursu mathieu succe convinc like mathieu feel attract cedric we realiz differ young men way cedric tell mathieu famili feel school on hand mathieu want architect find beauti abandon place cedric taken we watch mathieu read guid book want cedric attent br br when mathieu come mother wise tell import continu career she also point futur would togeth prove true mathieu appear learn lesson hard way he goe uncertain life cedric attempt take life we watch hospit speak psychiatrist treat wound soul br br the end might confus viewer moment film mathieu goe work bar see wash glass look intent pierr young man frequent bar that mathieu goe look pierr hous appear hard imagin yet seen way mathieu obvious interest pierr the last scene beach pierr mathieu seen stroll sand hope sign thing better watch young boy appar lost realiz father nearbi br br jeremi elkaim make mathieu one complex charact recent film thi young man hard understand simpl level mathieu suffer lot first separ parent depress mother lose cedric stephan rideau seen import french film equal good shallow cedric br br while come undon divid opinion film deserv view complex care sebastien lifshitz give stori'"
      ]
     },
     "execution_count": 59,
     "metadata": {},
     "output_type": "execute_result"
    }
   ],
   "source": [
    "temp['review'][0]"
   ]
  },
  {
   "cell_type": "code",
   "execution_count": 60,
   "id": "8a4b1a4d",
   "metadata": {},
   "outputs": [
    {
     "data": {
      "text/plain": [
       "'come undon appear elicit lot opinion among contributor forum grant film promis take gay life viewer expect somehow get away promis introspect view young man soul the film way stay us even end it charact studi young man get involv love affair someon much differ end leav mathieu confus hurt depress thing go accord hope relationship would br br if seen film perhap would like stop read br br sebastien lifshitz director film told stori mathieu viewpoint most viewer appear disori differ time within film hint obviou one see retrospect the stori told flashback might add way peopl view film thi stori doom love mathieu felt cedric ultim breakdown life togeth br br first cedric handsom young local pursu mathieu succe convinc like mathieu feel attract cedric we realiz differ young men way cedric tell mathieu famili feel school on hand mathieu want architect find beauti abandon place cedric taken we watch mathieu read guid book want cedric attent br br when mathieu come mother wise tell import continu career she also point futur would togeth prove true mathieu appear learn lesson hard way he goe uncertain life cedric attempt take life we watch hospit speak psychiatrist treat wound soul br br the end might confus viewer moment film mathieu goe work bar see wash glass look intent pierr young man frequent bar that mathieu goe look pierr hous appear hard imagin yet seen way mathieu obvious interest pierr the last scene beach pierr mathieu seen stroll sand hope sign thing better watch young boy appar lost realiz father nearbi br br jeremi elkaim make mathieu one complex charact recent film thi young man hard understand simpl level mathieu suffer lot first separ parent depress mother lose cedric stephan rideau seen import french film equal good shallow cedric br br while come undon divid opinion film deserv view complex care sebastien lifshitz give stori'"
      ]
     },
     "execution_count": 60,
     "metadata": {},
     "output_type": "execute_result"
    }
   ],
   "source": [
    "df['review'] = temp['review']\n",
    "df['review'][0]"
   ]
  },
  {
   "cell_type": "code",
   "execution_count": 64,
   "id": "e784dfd3",
   "metadata": {},
   "outputs": [
    {
     "data": {
      "text/plain": [
       "(49396, 6)"
      ]
     },
     "execution_count": 64,
     "metadata": {},
     "output_type": "execute_result"
    }
   ],
   "source": [
    "df.shape"
   ]
  },
  {
   "cell_type": "code",
   "execution_count": 61,
   "id": "7ca20f06",
   "metadata": {},
   "outputs": [],
   "source": [
    "df.to_csv('IMDB_clean.csv', index=False)"
   ]
  },
  {
   "cell_type": "code",
   "execution_count": 62,
   "id": "c1dc416d",
   "metadata": {},
   "outputs": [
    {
     "data": {
      "text/html": [
       "<div>\n",
       "<style scoped>\n",
       "    .dataframe tbody tr th:only-of-type {\n",
       "        vertical-align: middle;\n",
       "    }\n",
       "\n",
       "    .dataframe tbody tr th {\n",
       "        vertical-align: top;\n",
       "    }\n",
       "\n",
       "    .dataframe thead th {\n",
       "        text-align: right;\n",
       "    }\n",
       "</style>\n",
       "<table border=\"1\" class=\"dataframe\">\n",
       "  <thead>\n",
       "    <tr style=\"text-align: right;\">\n",
       "      <th></th>\n",
       "      <th>review</th>\n",
       "      <th>sentiment</th>\n",
       "      <th>review letter count</th>\n",
       "      <th>word_counts</th>\n",
       "      <th>avg_wordlength</th>\n",
       "      <th>stopwords_counts</th>\n",
       "    </tr>\n",
       "  </thead>\n",
       "  <tbody>\n",
       "    <tr>\n",
       "      <th>0</th>\n",
       "      <td>come undon appear elicit lot opinion among con...</td>\n",
       "      <td>1</td>\n",
       "      <td>3223</td>\n",
       "      <td>573</td>\n",
       "      <td>4.626527</td>\n",
       "      <td>259</td>\n",
       "    </tr>\n",
       "    <tr>\n",
       "      <th>1</th>\n",
       "      <td>caught tail end movi channel surf cabl movi ch...</td>\n",
       "      <td>1</td>\n",
       "      <td>813</td>\n",
       "      <td>149</td>\n",
       "      <td>4.463087</td>\n",
       "      <td>62</td>\n",
       "    </tr>\n",
       "    <tr>\n",
       "      <th>2</th>\n",
       "      <td>thi docu drama mostli later year kw life nearl...</td>\n",
       "      <td>1</td>\n",
       "      <td>812</td>\n",
       "      <td>139</td>\n",
       "      <td>4.848921</td>\n",
       "      <td>52</td>\n",
       "    </tr>\n",
       "    <tr>\n",
       "      <th>3</th>\n",
       "      <td>darr incred movi in opinion one bollywood fine...</td>\n",
       "      <td>1</td>\n",
       "      <td>835</td>\n",
       "      <td>133</td>\n",
       "      <td>5.285714</td>\n",
       "      <td>39</td>\n",
       "    </tr>\n",
       "    <tr>\n",
       "      <th>4</th>\n",
       "      <td>i grew southern west virginia i age mayb year ...</td>\n",
       "      <td>1</td>\n",
       "      <td>865</td>\n",
       "      <td>159</td>\n",
       "      <td>4.446541</td>\n",
       "      <td>62</td>\n",
       "    </tr>\n",
       "  </tbody>\n",
       "</table>\n",
       "</div>"
      ],
      "text/plain": [
       "                                              review  sentiment  \\\n",
       "0  come undon appear elicit lot opinion among con...          1   \n",
       "1  caught tail end movi channel surf cabl movi ch...          1   \n",
       "2  thi docu drama mostli later year kw life nearl...          1   \n",
       "3  darr incred movi in opinion one bollywood fine...          1   \n",
       "4  i grew southern west virginia i age mayb year ...          1   \n",
       "\n",
       "   review letter count  word_counts  avg_wordlength  stopwords_counts  \n",
       "0                 3223          573        4.626527               259  \n",
       "1                  813          149        4.463087                62  \n",
       "2                  812          139        4.848921                52  \n",
       "3                  835          133        5.285714                39  \n",
       "4                  865          159        4.446541                62  "
      ]
     },
     "execution_count": 62,
     "metadata": {},
     "output_type": "execute_result"
    }
   ],
   "source": [
    "data = pd.read_csv('IMDB_clean.csv')\n",
    "data.head()"
   ]
  },
  {
   "cell_type": "code",
   "execution_count": 63,
   "id": "17aa11be",
   "metadata": {},
   "outputs": [
    {
     "data": {
      "text/plain": [
       "'come undon appear elicit lot opinion among contributor forum grant film promis take gay life viewer expect somehow get away promis introspect view young man soul the film way stay us even end it charact studi young man get involv love affair someon much differ end leav mathieu confus hurt depress thing go accord hope relationship would br br if seen film perhap would like stop read br br sebastien lifshitz director film told stori mathieu viewpoint most viewer appear disori differ time within film hint obviou one see retrospect the stori told flashback might add way peopl view film thi stori doom love mathieu felt cedric ultim breakdown life togeth br br first cedric handsom young local pursu mathieu succe convinc like mathieu feel attract cedric we realiz differ young men way cedric tell mathieu famili feel school on hand mathieu want architect find beauti abandon place cedric taken we watch mathieu read guid book want cedric attent br br when mathieu come mother wise tell import continu career she also point futur would togeth prove true mathieu appear learn lesson hard way he goe uncertain life cedric attempt take life we watch hospit speak psychiatrist treat wound soul br br the end might confus viewer moment film mathieu goe work bar see wash glass look intent pierr young man frequent bar that mathieu goe look pierr hous appear hard imagin yet seen way mathieu obvious interest pierr the last scene beach pierr mathieu seen stroll sand hope sign thing better watch young boy appar lost realiz father nearbi br br jeremi elkaim make mathieu one complex charact recent film thi young man hard understand simpl level mathieu suffer lot first separ parent depress mother lose cedric stephan rideau seen import french film equal good shallow cedric br br while come undon divid opinion film deserv view complex care sebastien lifshitz give stori'"
      ]
     },
     "execution_count": 63,
     "metadata": {},
     "output_type": "execute_result"
    }
   ],
   "source": [
    "data['review'][0]"
   ]
  },
  {
   "cell_type": "code",
   "execution_count": 65,
   "id": "48d6bea5",
   "metadata": {},
   "outputs": [
    {
     "data": {
      "text/plain": [
       "(49396, 6)"
      ]
     },
     "execution_count": 65,
     "metadata": {},
     "output_type": "execute_result"
    }
   ],
   "source": [
    "data.shape"
   ]
  },
  {
   "cell_type": "code",
   "execution_count": null,
   "id": "99895b18",
   "metadata": {},
   "outputs": [],
   "source": []
  }
 ],
 "metadata": {
  "kernelspec": {
   "display_name": "Python 3 (ipykernel)",
   "language": "python",
   "name": "python3"
  },
  "language_info": {
   "codemirror_mode": {
    "name": "ipython",
    "version": 3
   },
   "file_extension": ".py",
   "mimetype": "text/x-python",
   "name": "python",
   "nbconvert_exporter": "python",
   "pygments_lexer": "ipython3",
   "version": "3.11.5"
  }
 },
 "nbformat": 4,
 "nbformat_minor": 5
}
